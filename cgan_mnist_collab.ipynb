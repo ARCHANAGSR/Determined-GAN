{
  "nbformat": 4,
  "nbformat_minor": 0,
  "metadata": {
    "colab": {
      "provenance": []
    },
    "kernelspec": {
      "name": "python3",
      "display_name": "Python 3"
    },
    "language_info": {
      "name": "python"
    },
    "gpuClass": "standard",
    "accelerator": "GPU"
  },
  "cells": [
    {
      "cell_type": "markdown",
      "source": [],
      "metadata": {
        "id": "bWmPeUQZLBz-"
      }
    },
    {
      "cell_type": "code",
      "source": [
        "import shutil\n",
        "shutil.rmtree('/content/',  ignore_errors=True)"
      ],
      "metadata": {
        "id": "q-ZedNEfW6WV"
      },
      "execution_count": null,
      "outputs": []
    },
    {
      "cell_type": "code",
      "execution_count": null,
      "metadata": {
        "id": "BFkr6ZtImp2r"
      },
      "outputs": [],
      "source": [
        "from __future__ import division, print_function\n",
        "from keras.preprocessing.image import ImageDataGenerator\n",
        "from keras.utils import np_utils\n",
        "import itertools\n",
        "import time\n",
        "import matplotlib.pyplot as plt\n",
        "import numpy as np\n",
        "import random\n",
        "import os\n",
        "import cv2\n",
        "from PIL import Image\n",
        "from sklearn.metrics import confusion_matrix\n",
        "from keras.preprocessing import image\n",
        "from keras.models import Model, Sequential\n",
        "from keras.layers import Activation, Dense, Flatten, GlobalAveragePooling2D, BatchNormalization, Dropout, Conv2D, Conv2DTranspose, AveragePooling2D, MaxPooling2D, UpSampling2D, Input, Reshape, Lambda, Concatenate, Subtract, Reshape, multiply\n",
        "from keras.layers import Embedding, ZeroPadding2D\n",
        "from keras.regularizers import l2\n",
        "from keras.layers import LeakyReLU\n",
        "from keras import backend as K\n",
        "from keras.optimizers import Nadam, Adam, SGD\n",
        "from keras.metrics import categorical_accuracy, binary_accuracy\n",
        "from keras.callbacks import Callback, History\n",
        "import tensorflow as tf\n",
        "import pandas as pd\n",
        "import glob\n",
        "import PIL\n",
        "from sys import getsizeof\n",
        "from PIL import Image\n",
        "from sklearn.metrics.pairwise import cosine_similarity\n",
        "from matplotlib.ticker import MaxNLocator\n",
        "from sklearn.utils import class_weight\n",
        "from keras.datasets import mnist"
      ]
    },
    {
      "cell_type": "code",
      "source": [
        "(X_train, y_train), (X_test, y_test) = mnist.load_data()\n",
        "# Image shape information\n",
        "img_rows = X_train.shape[1]\n",
        "img_cols = X_train.shape[2]\n",
        "\n",
        "if len(X_train.shape) == 4:\n",
        "    channels = X_train.shape[3]\n",
        "else:\n",
        "    channels = 1\n",
        "img_shape = (img_rows, img_cols, channels)\n",
        "num_classes = 10\n",
        "latent_dim = 100\n",
        "optimizer = Adam(0.0002, 0.5)"
      ],
      "metadata": {
        "id": "K8cCMq99rcA_"
      },
      "execution_count": null,
      "outputs": []
    },
    {
      "cell_type": "code",
      "source": [
        "def generator():\n",
        "    model = Sequential()\n",
        "    model.add(Dense(256, input_dim=latent_dim))\n",
        "    model.add(LeakyReLU(alpha=0.2))\n",
        "    model.add(BatchNormalization(momentum=0.8))\n",
        "    model.add(Dense(512))\n",
        "    model.add(LeakyReLU(alpha=0.2))\n",
        "    model.add(BatchNormalization(momentum=0.8))\n",
        "    model.add(Dense(1024))\n",
        "    model.add(LeakyReLU(alpha=0.2))\n",
        "    model.add(BatchNormalization(momentum=0.8))\n",
        "    model.add(Dense(np.prod(img_shape), activation='tanh'))\n",
        "    model.add(Reshape(img_shape))\n",
        "    model.summary()\n",
        "\n",
        "    noise = Input(shape=(latent_dim,))\n",
        "    label = Input(shape=(1,), dtype='int32')\n",
        "    label_embedding = Flatten()(Embedding(num_classes, latent_dim)(label))\n",
        "\n",
        "    model_input = multiply([noise, label_embedding])\n",
        "    img = model(model_input)\n",
        "\n",
        "    return Model([noise, label], img)"
      ],
      "metadata": {
        "id": "tHbat8LUnvPA"
      },
      "execution_count": null,
      "outputs": []
    },
    {
      "cell_type": "code",
      "source": [
        "def discriminator():\n",
        "    model = Sequential()\n",
        "    model.add(Dense(512, input_dim=np.prod(img_shape)))\n",
        "    model.add(LeakyReLU(alpha=0.2))\n",
        "    model.add(Dense(512))\n",
        "    model.add(LeakyReLU(alpha=0.2))\n",
        "    model.add(Dropout(0.4))\n",
        "    model.add(Dense(512))\n",
        "    model.add(LeakyReLU(alpha=0.2))\n",
        "    model.add(Dropout(0.4))\n",
        "    model.add(Dense(1, activation='sigmoid'))\n",
        "    model.summary()\n",
        "\n",
        "    img = Input(shape=img_shape)\n",
        "    label = Input(shape=(1,), dtype='int32')\n",
        "\n",
        "    label_embedding = Flatten()(Embedding(num_classes, np.prod(img_shape))(label))\n",
        "    flat_img = Flatten()(img)\n",
        "\n",
        "    model_input = multiply([flat_img, label_embedding])\n",
        "\n",
        "    validity = model(model_input)\n",
        "\n",
        "    return Model([img, label], validity)"
      ],
      "metadata": {
        "id": "96Cw1jYArvb6"
      },
      "execution_count": null,
      "outputs": []
    },
    {
      "cell_type": "code",
      "source": [
        "discriminator = discriminator()\n",
        "\n",
        "discriminator.compile(loss=['binary_crossentropy'], optimizer=optimizer, metrics=['accuracy'])\n",
        "\n",
        "# Build the generator\n",
        "generator = generator()\n",
        "\n",
        "# The generator takes noise and the target label as input\n",
        "# and generates the corresponding digit of that label\n",
        "\n",
        "noise = Input(shape=(latent_dim,))\n",
        "label = Input(shape=(1,))\n",
        "img = generator([noise, label])\n",
        "\n",
        "# For the combined model we will only train the generator\n",
        "discriminator.trainable = False\n",
        "\n",
        "# The discriminator takes generated image as input and determines validity\n",
        "# and the label of that image\n",
        "valid = discriminator([img, label])\n",
        "\n",
        "# The combined model  (stacked generator and discriminator)\n",
        "# Trains generator to fool discriminator\n",
        "\n",
        "combined = Model([noise, label], valid)\n",
        "combined.compile(loss=['binary_crossentropy'], optimizer=optimizer)"
      ],
      "metadata": {
        "id": "gs4tw6O_ryCx",
        "colab": {
          "base_uri": "https://localhost:8080/"
        },
        "outputId": "4d7941f7-5510-4db1-9914-bc2162765bfe"
      },
      "execution_count": null,
      "outputs": [
        {
          "output_type": "stream",
          "name": "stdout",
          "text": [
            "Model: \"sequential_4\"\n",
            "_________________________________________________________________\n",
            " Layer (type)                Output Shape              Param #   \n",
            "=================================================================\n",
            " dense_16 (Dense)            (None, 512)               401920    \n",
            "                                                                 \n",
            " leaky_re_lu_12 (LeakyReLU)  (None, 512)               0         \n",
            "                                                                 \n",
            " dense_17 (Dense)            (None, 512)               262656    \n",
            "                                                                 \n",
            " leaky_re_lu_13 (LeakyReLU)  (None, 512)               0         \n",
            "                                                                 \n",
            " dropout_4 (Dropout)         (None, 512)               0         \n",
            "                                                                 \n",
            " dense_18 (Dense)            (None, 512)               262656    \n",
            "                                                                 \n",
            " leaky_re_lu_14 (LeakyReLU)  (None, 512)               0         \n",
            "                                                                 \n",
            " dropout_5 (Dropout)         (None, 512)               0         \n",
            "                                                                 \n",
            " dense_19 (Dense)            (None, 1)                 513       \n",
            "                                                                 \n",
            "=================================================================\n",
            "Total params: 927,745\n",
            "Trainable params: 927,745\n",
            "Non-trainable params: 0\n",
            "_________________________________________________________________\n",
            "Model: \"sequential_5\"\n",
            "_________________________________________________________________\n",
            " Layer (type)                Output Shape              Param #   \n",
            "=================================================================\n",
            " dense_20 (Dense)            (None, 256)               25856     \n",
            "                                                                 \n",
            " leaky_re_lu_15 (LeakyReLU)  (None, 256)               0         \n",
            "                                                                 \n",
            " batch_normalization_6 (Batc  (None, 256)              1024      \n",
            " hNormalization)                                                 \n",
            "                                                                 \n",
            " dense_21 (Dense)            (None, 512)               131584    \n",
            "                                                                 \n",
            " leaky_re_lu_16 (LeakyReLU)  (None, 512)               0         \n",
            "                                                                 \n",
            " batch_normalization_7 (Batc  (None, 512)              2048      \n",
            " hNormalization)                                                 \n",
            "                                                                 \n",
            " dense_22 (Dense)            (None, 1024)              525312    \n",
            "                                                                 \n",
            " leaky_re_lu_17 (LeakyReLU)  (None, 1024)              0         \n",
            "                                                                 \n",
            " batch_normalization_8 (Batc  (None, 1024)             4096      \n",
            " hNormalization)                                                 \n",
            "                                                                 \n",
            " dense_23 (Dense)            (None, 784)               803600    \n",
            "                                                                 \n",
            " reshape_2 (Reshape)         (None, 28, 28, 1)         0         \n",
            "                                                                 \n",
            "=================================================================\n",
            "Total params: 1,493,520\n",
            "Trainable params: 1,489,936\n",
            "Non-trainable params: 3,584\n",
            "_________________________________________________________________\n"
          ]
        }
      ]
    },
    {
      "cell_type": "code",
      "source": [
        "def sample_images(epoch):\n",
        "    r, c = 2, 5\n",
        "    noise = np.random.normal(0, 1, (r * c, 100))\n",
        "    sampled_labels = np.arange(0, 10).reshape(-1, 1)\n",
        "    for i in range(0, len(sampled_labels)):    \n",
        "        print(sampled_labels[i]) \n",
        "    gen_imgs = generator.predict([noise, sampled_labels])\n",
        "\n",
        "    # Rescale images 0 - 1\n",
        "    gen_imgs = 0.5 * gen_imgs + 0.5\n",
        "    \"\"\"\n",
        "    fig, axs = plt.subplots(r, c)\n",
        "    cnt = 0\n",
        "    for i in range(r):\n",
        "        for j in range(c):\n",
        "            axs[i,j].imshow(gen_imgs[cnt,:,:,0], cmap='gray')\n",
        "            axs[i,j].set_title(\"Digit: %d\" % sampled_labels[cnt])\n",
        "            axs[i,j].axis('off')\n",
        "            cnt += 1\n",
        "    \"\"\"\n",
        "    cnt = 0\n",
        "    for i in range(2 * 5):\n",
        "      plt.axis('off')\n",
        "      plt.imshow(gen_imgs[cnt,:,:,0], cmap='gray')\n",
        "      cnt += 1\n",
        "      filename = \"/content/%d\" % sampled_labels[cnt-1]\n",
        "\n",
        "      if not os.path.exists(filename):\n",
        "          os.makedirs(filename)\n",
        "      plt.savefig(\"/content/%d/%d.png\" % ( sampled_labels[cnt-1], epoch))\n",
        "    \n",
        "    plt.close()"
      ],
      "metadata": {
        "id": "u48JkEthr7ne"
      },
      "execution_count": null,
      "outputs": []
    },
    {
      "cell_type": "code",
      "source": [
        "epochs=5000\n",
        "batch_size=32\n",
        "sample_interval=50"
      ],
      "metadata": {
        "id": "fcXbj9pzr_Zj"
      },
      "execution_count": null,
      "outputs": []
    },
    {
      "cell_type": "code",
      "source": [
        "X_train = (X_train.astype(np.float32) - 127.5) / 127.5\n",
        "X_train = np.expand_dims(X_train, axis=3)\n",
        "\n",
        "y_train = y_train.reshape(-1, 1)\n",
        "\n",
        "# Adversarial ground truths\n",
        "valid = np.ones((batch_size, 1))\n",
        "fake = np.zeros((batch_size, 1))    \n",
        "\n",
        "# Declaring empty lists to save the losses for plotting\n",
        "d_loss_plot = []\n",
        "g_loss_plot = []\n",
        "acc_plot = []"
      ],
      "metadata": {
        "id": "2jwY84e4sCmZ"
      },
      "execution_count": null,
      "outputs": []
    },
    {
      "cell_type": "code",
      "source": [
        "for epoch in range(epochs):\n",
        "    #Training the Discriminator\n",
        "    # Select a random half batch of images\n",
        "    idx = np.random.randint(0, X_train.shape[0], batch_size)\n",
        "    imgs, labels = X_train[idx], y_train[idx]\n",
        "\n",
        "    # Sample noise as generator input\n",
        "    noise = np.random.normal(0, 1, (batch_size, 100))\n",
        "\n",
        "    # Generate a half batch of new images\n",
        "    gen_imgs = generator.predict([noise, labels])\n",
        "\n",
        "    # Train the discriminator\n",
        "    d_loss_real = discriminator.train_on_batch([imgs, labels], valid)\n",
        "    d_loss_fake = discriminator.train_on_batch([gen_imgs, labels], fake)\n",
        "    d_loss = 0.5 * np.add(d_loss_real, d_loss_fake)\n",
        "\n",
        "    #Training the Generator\n",
        "    # Condition on labels\n",
        "    sampled_labels = np.random.randint(0, 10, batch_size).reshape(-1, 1)\n",
        "\n",
        "    # Train the generator\n",
        "    g_loss = combined.train_on_batch([noise, sampled_labels], valid)\n",
        "\n",
        "    # Saving the Discriminator and Generator losses and accuracy for plotting\n",
        "    d_loss_plot.append(d_loss[0])\n",
        "    g_loss_plot.append(g_loss)\n",
        "    acc_plot.append(d_loss[1])\n",
        "\n",
        "    # Plot the progress every 100 epochs\n",
        "    if epoch % 500 == 0:\n",
        "        print (\"%d/%d [D loss: %f, acc.: %.2f%%] [G loss: %f]\" % (epoch, epochs, d_loss[0], 100*d_loss[1], g_loss))\n",
        "        samples = 10\n",
        "        z = np.random.normal(loc=0, scale=1, size=(samples, latent_dim))\n",
        "        labels = np.arange(0, 10).reshape(-1, 1)  \n",
        "        x_fake = generator.predict([z, labels])\n",
        "        cnt=0\n",
        "        for k in range(samples):\n",
        "            plt.subplot(2, 5, k+1)\n",
        "            plt.imshow(x_fake[k].reshape(28, 28), cmap='gray')\n",
        "            #plt.axes.axes.set_title(\"Digit: %d\" % sampled_labels[cnt])\n",
        "            plt.xticks([])\n",
        "            plt.yticks([])\n",
        "            cnt+=1\n",
        "        plt.tight_layout()\n",
        "        plt.show()\n",
        "\n",
        "    # Saving generated image samples at every sample interval\n",
        "    if epoch % sample_interval == 0:\n",
        "        sample_images(epoch)"
      ],
      "metadata": {
        "id": "m0qJhlWeLIn7"
      },
      "execution_count": null,
      "outputs": []
    },
    {
      "cell_type": "code",
      "source": [
        "plt.plot(acc_plot)\n",
        "\n",
        "plt.title('Discriminator accuracy')\n",
        "\n",
        "plt.ylabel('accuracy')\n",
        "\n",
        "plt.xlabel('epoch')\n",
        "\n",
        "plt.show()\n",
        "\n",
        "\n",
        "\n",
        "# Loss plots\n",
        "\n",
        "plt.plot(d_loss_plot)\n",
        "\n",
        "plt.plot(g_loss_plot)\n",
        "\n",
        "plt.title('Losses')\n",
        "\n",
        "plt.ylabel('loss')\n",
        "\n",
        "plt.xlabel('epoch')\n",
        "\n",
        "plt.legend(['Discriminator', 'Generator'])\n",
        "\n",
        "plt.show()"
      ],
      "metadata": {
        "id": "8VFUydgSLKjF",
        "colab": {
          "base_uri": "https://localhost:8080/",
          "height": 927
        },
        "outputId": "eada5250-ced1-448e-a3b5-3da95604e8dc"
      },
      "execution_count": null,
      "outputs": [
        {
          "output_type": "display_data",
          "data": {
            "text/plain": [
              "<Figure size 640x480 with 1 Axes>"
            ],
            "image/png": "[encoded data removed]"
          },
          "metadata": {}
        },
        {
          "output_type": "display_data",
          "data": {
            "text/plain": [
              "<Figure size 640x480 with 1 Axes>"
            ],
            "image/png": "[encoded data removed]"
          },
          "metadata": {}
        }
      ]
    },
    {
      "cell_type": "code",
      "source": [
        "import zipfile\n",
        "! zip -r /content/content.zip /content/\n"
      ],
      "metadata": {
        "id": "nzQ6dVQWt7Uc"
      },
      "execution_count": null,
      "outputs": []
    },
    {
      "cell_type": "code",
      "source": [
        "from google.colab import drive\n",
        "import shutil\n",
        "import zipfile\n",
        "\n",
        "with zipfile.ZipFile('/content/content.zip', 'r') as zip:\n",
        "    zip.extractall('/content')\n",
        "shutil.rmtree('/content/content/',  ignore_errors=True)\n",
        "shutil.rmtree('/content/content/sample_data',  ignore_errors=True)"
      ],
      "metadata": {
        "id": "92CG4I6OArYj"
      },
      "execution_count": null,
      "outputs": []
    },
    {
      "cell_type": "code",
      "source": [
        "from tensorflow.keras.preprocessing import image\n",
        "from tensorflow.image import rgb_to_grayscale\n",
        "from tensorflow.keras.utils import load_img\n",
        "from PIL import Image\n",
        "import os\n",
        "\n",
        "path_to_files = \"/content\"\n",
        "vectorized_images_x = []\n",
        "vectorized_images_Y = []\n",
        "\n",
        "#for _, file_num in enumerate(os.listdir(path_to_files)):\n",
        "for folnum in range(10):\n",
        "  filename = \"/content/%s\" % folnum\n",
        "  print(filename)\n",
        "  for _, file in enumerate(os.listdir(filename)):\n",
        "    path = \"%s/%s\" % (filename,file)\n",
        "    print(path)\n",
        "    img = load_img(path,target_size=(28,28))\n",
        "    plt.imshow(img,interpolation='nearest',cmap='gray')\n",
        "    #plt.show()\n",
        "    img1 = rgb_to_grayscale(\n",
        "    img, name=None)\n",
        "    img_array = np.expand_dims(np.array(img1), axis=2)\n",
        "    img_array.shape\n",
        "    img_array=img_array.reshape(28,28,1)\n",
        "    img_array.shape\n",
        "    vectorized_images_x.append(img_array)    \n",
        "    vectorized_images_Y.append(int(folnum))\n",
        "\n",
        "np.savez(\"./mnistlikedataset.npz\",DataX=vectorized_images_x,DataY=vectorized_images_Y)"
      ],
      "metadata": {
        "id": "VznuR09K56IT"
      },
      "execution_count": null,
      "outputs": []
    }
  ]
}